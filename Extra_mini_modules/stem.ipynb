{
 "cells": [
  {
   "cell_type": "code",
   "execution_count": 1,
   "metadata": {},
   "outputs": [],
   "source": [
    "from nltk.stem import PorterStemmer"
   ]
  },
  {
   "cell_type": "code",
   "execution_count": 2,
   "metadata": {},
   "outputs": [],
   "source": [
    "paragraph = \"\"\"This article is about the Republic of India. For other uses, see India (disambiguation).\n",
    "\n",
    "India, officially the Republic of India,[j][21] is a country in South Asia. It is the seventh-largest country by area; the most populous country from June 2023 onwards;[22][23] and since its independence in 1947, the world's most populous democracy.[24][25][26] Bounded by the Indian Ocean on the south, the Arabian Sea on the southwest, and the Bay of Bengal on the southeast, it shares land borders with Pakistan to the west;[k] China, Nepal, and Bhutan to the north; and Bangladesh and Myanmar to the east. In the Indian Ocean, India is near Sri Lanka and the Maldives; its Andaman and Nicobar Islands share a maritime border with Thailand, Myanmar, and Indonesia.\n",
    "\n",
    "Modern humans arrived on the Indian subcontinent from Africa no later than 55,000 years ago.[28][29][30] Their long occupation, predominantly in isolation as hunter-gatherers, has made the region highly diverse, second only to Africa in human genetic diversity.[31] Settled life emerged on the subcontinent in the western margins of the Indus river basin 9,000 years ago, evolving gradually into the Indus Valley Civilisation of the third millennium BCE.[32] By 1200 BCE, an archaic form of Sanskrit, an Indo-European language, had diffused into India from the northwest.[33][34] Its hymns recorded the dawning of Hinduism in India.[35] India's pre-existing Dravidian languages were supplanted in the northern regions.[36] By 400 BCE, caste had emerged within Hinduism,[37] and Buddhism and Jainism had arisen, proclaiming social orders unlinked to heredity.[38] Early political consolidations gave rise to the loose-knit Maurya and Gupta Empires.[39] Widespread creativity suffused this era,[40] but the status of women declined,[41] and untouchability became an organized belief.[l][42] In South India, the Middle kingdoms exported Dravidian language scripts and religious cultures to the kingdoms of Southeast Asia.[43]\n",
    "\n",
    "In the early mediaeval era, Christianity, Islam, Judaism, and Zoroastrianism became established on India's southern and western coasts.[44] Muslim armies from Central Asia intermittently overran India's northern plains.[45] The resulting Delhi Sultanate drew northern India into the cosmopolitan networks of mediaeval Islam.[46] In south India, the Vijayanagara Empire created a long-lasting composite Hindu culture.[47] In the Punjab, Sikhism emerged, rejecting institutionalised religion.[48] The Mughal Empire, in 1526, ushered in two centuries of relative peace,[49] leaving a legacy of luminous architecture.[m][50] Gradually expanding rule of the British East India Company followed. It turned India into a colonial economy but consolidated its sovereignty.[51] British Crown rule began in 1858. The rights promised to Indians were granted slowly,[52][53] but technological changes were introduced, and modern ideas of education and public life took root.[54] A pioneering and influential nationalist movement emerged. Noted for nonviolent resistance it became the major factor in ending British rule.[55][56] In 1947, the British Indian Empire was partitioned into two independent dominions,[57][58][59][60] a Hindu-majority dominion of India and a Muslim-majority dominion of Pakistan. A large-scale loss of life and an unprecedented migration accompanied the partition.[61]\n",
    "\n",
    "India has been a federal republic since 1950, governed through a democratic parliamentary system. It is a pluralistic, multilingual and multi-ethnic society. India's population grew from 361 million in 1951 to almost 1.4 billion in 2022.[62] During this time, its nominal per capita income increased from US$64 annually to US$2,601, and its literacy rate from 16.6% to 74%. A comparatively destitute country in 1951,[63] India has become a fast-growing major economy and a hub for information technology services; it has an expanding middle class.[64] Indian movies and music increasingly influence global culture.[65] India has reduced its poverty rate, though at the cost of increasing economic inequality.[66] It is a nuclear-weapon state that ranks high in military expenditure. It has disputes over Kashmir with its neighbours, Pakistan and China, unresolved since the mid-20th century.[67] Among the socio-economic challenges India faces are gender inequality, child malnutrition,[68] and rising levels of air pollution.[69] India's land is megadiverse with four biodiversity hotspots.[70] India's wildlife, which has traditionally been viewed with tolerance in its culture,[71] is supported among these forests and elsewhere in protected habitats.\"\"\""
   ]
  },
  {
   "cell_type": "code",
   "execution_count": 3,
   "metadata": {},
   "outputs": [],
   "source": [
    "from nltk.corpus import stopwords"
   ]
  },
  {
   "cell_type": "code",
   "execution_count": 4,
   "metadata": {},
   "outputs": [
    {
     "name": "stderr",
     "output_type": "stream",
     "text": [
      "[nltk_data] Downloading package stopwords to\n",
      "[nltk_data]     /Users/chaitanyakakade/nltk_data...\n",
      "[nltk_data]   Unzipping corpora/stopwords.zip.\n"
     ]
    },
    {
     "data": {
      "text/plain": [
       "True"
      ]
     },
     "execution_count": 4,
     "metadata": {},
     "output_type": "execute_result"
    }
   ],
   "source": [
    "import nltk\n",
    "nltk.download('stopwords')"
   ]
  },
  {
   "cell_type": "code",
   "execution_count": 5,
   "metadata": {},
   "outputs": [
    {
     "data": {
      "text/plain": [
       "['i',\n",
       " 'me',\n",
       " 'my',\n",
       " 'myself',\n",
       " 'we',\n",
       " 'our',\n",
       " 'ours',\n",
       " 'ourselves',\n",
       " 'you',\n",
       " \"you're\",\n",
       " \"you've\",\n",
       " \"you'll\",\n",
       " \"you'd\",\n",
       " 'your',\n",
       " 'yours',\n",
       " 'yourself',\n",
       " 'yourselves',\n",
       " 'he',\n",
       " 'him',\n",
       " 'his',\n",
       " 'himself',\n",
       " 'she',\n",
       " \"she's\",\n",
       " 'her',\n",
       " 'hers',\n",
       " 'herself',\n",
       " 'it',\n",
       " \"it's\",\n",
       " 'its',\n",
       " 'itself',\n",
       " 'they',\n",
       " 'them',\n",
       " 'their',\n",
       " 'theirs',\n",
       " 'themselves',\n",
       " 'what',\n",
       " 'which',\n",
       " 'who',\n",
       " 'whom',\n",
       " 'this',\n",
       " 'that',\n",
       " \"that'll\",\n",
       " 'these',\n",
       " 'those',\n",
       " 'am',\n",
       " 'is',\n",
       " 'are',\n",
       " 'was',\n",
       " 'were',\n",
       " 'be',\n",
       " 'been',\n",
       " 'being',\n",
       " 'have',\n",
       " 'has',\n",
       " 'had',\n",
       " 'having',\n",
       " 'do',\n",
       " 'does',\n",
       " 'did',\n",
       " 'doing',\n",
       " 'a',\n",
       " 'an',\n",
       " 'the',\n",
       " 'and',\n",
       " 'but',\n",
       " 'if',\n",
       " 'or',\n",
       " 'because',\n",
       " 'as',\n",
       " 'until',\n",
       " 'while',\n",
       " 'of',\n",
       " 'at',\n",
       " 'by',\n",
       " 'for',\n",
       " 'with',\n",
       " 'about',\n",
       " 'against',\n",
       " 'between',\n",
       " 'into',\n",
       " 'through',\n",
       " 'during',\n",
       " 'before',\n",
       " 'after',\n",
       " 'above',\n",
       " 'below',\n",
       " 'to',\n",
       " 'from',\n",
       " 'up',\n",
       " 'down',\n",
       " 'in',\n",
       " 'out',\n",
       " 'on',\n",
       " 'off',\n",
       " 'over',\n",
       " 'under',\n",
       " 'again',\n",
       " 'further',\n",
       " 'then',\n",
       " 'once',\n",
       " 'here',\n",
       " 'there',\n",
       " 'when',\n",
       " 'where',\n",
       " 'why',\n",
       " 'how',\n",
       " 'all',\n",
       " 'any',\n",
       " 'both',\n",
       " 'each',\n",
       " 'few',\n",
       " 'more',\n",
       " 'most',\n",
       " 'other',\n",
       " 'some',\n",
       " 'such',\n",
       " 'no',\n",
       " 'nor',\n",
       " 'not',\n",
       " 'only',\n",
       " 'own',\n",
       " 'same',\n",
       " 'so',\n",
       " 'than',\n",
       " 'too',\n",
       " 'very',\n",
       " 's',\n",
       " 't',\n",
       " 'can',\n",
       " 'will',\n",
       " 'just',\n",
       " 'don',\n",
       " \"don't\",\n",
       " 'should',\n",
       " \"should've\",\n",
       " 'now',\n",
       " 'd',\n",
       " 'll',\n",
       " 'm',\n",
       " 'o',\n",
       " 're',\n",
       " 've',\n",
       " 'y',\n",
       " 'ain',\n",
       " 'aren',\n",
       " \"aren't\",\n",
       " 'couldn',\n",
       " \"couldn't\",\n",
       " 'didn',\n",
       " \"didn't\",\n",
       " 'doesn',\n",
       " \"doesn't\",\n",
       " 'hadn',\n",
       " \"hadn't\",\n",
       " 'hasn',\n",
       " \"hasn't\",\n",
       " 'haven',\n",
       " \"haven't\",\n",
       " 'isn',\n",
       " \"isn't\",\n",
       " 'ma',\n",
       " 'mightn',\n",
       " \"mightn't\",\n",
       " 'mustn',\n",
       " \"mustn't\",\n",
       " 'needn',\n",
       " \"needn't\",\n",
       " 'shan',\n",
       " \"shan't\",\n",
       " 'shouldn',\n",
       " \"shouldn't\",\n",
       " 'wasn',\n",
       " \"wasn't\",\n",
       " 'weren',\n",
       " \"weren't\",\n",
       " 'won',\n",
       " \"won't\",\n",
       " 'wouldn',\n",
       " \"wouldn't\"]"
      ]
     },
     "execution_count": 5,
     "metadata": {},
     "output_type": "execute_result"
    }
   ],
   "source": [
    "stopwords.words('english')"
   ]
  },
  {
   "cell_type": "code",
   "execution_count": 6,
   "metadata": {},
   "outputs": [],
   "source": [
    "stemmer = PorterStemmer()\n"
   ]
  },
  {
   "cell_type": "code",
   "execution_count": 8,
   "metadata": {},
   "outputs": [
    {
     "name": "stderr",
     "output_type": "stream",
     "text": [
      "[nltk_data] Downloading package punkt_tab to\n",
      "[nltk_data]     /Users/chaitanyakakade/nltk_data...\n",
      "[nltk_data]   Unzipping tokenizers/punkt_tab.zip.\n"
     ]
    },
    {
     "data": {
      "text/plain": [
       "True"
      ]
     },
     "execution_count": 8,
     "metadata": {},
     "output_type": "execute_result"
    }
   ],
   "source": [
    "nltk.download('punkt_tab')"
   ]
  },
  {
   "cell_type": "code",
   "execution_count": 10,
   "metadata": {},
   "outputs": [],
   "source": [
    "sentences = nltk.sent_tokenize(paragraph)"
   ]
  },
  {
   "cell_type": "code",
   "execution_count": 11,
   "metadata": {},
   "outputs": [],
   "source": [
    "for i in range(len(sentences)):\n",
    "    words = nltk.word_tokenize(sentences[i])\n",
    "    words = [stemmer.stem(word) for word in words if word not in set(stopwords.words('english'))]\n",
    "    sentences[i] = ' '.join(words)\n"
   ]
  },
  {
   "cell_type": "code",
   "execution_count": 12,
   "metadata": {},
   "outputs": [
    {
     "data": {
      "text/plain": [
       "['thi articl republ india .',\n",
       " 'for use , see india ( disambigu ) .',\n",
       " 'india , offici republ india , [ j ] [ 21 ] countri south asia .',\n",
       " \"it seventh-largest countri area ; popul countri june 2023 onward ; [ 22 ] [ 23 ] sinc independ 1947 , world 's popul democraci .\",\n",
       " '[ 24 ] [ 25 ] [ 26 ] bound indian ocean south , arabian sea southwest , bay bengal southeast , share land border pakistan west ; [ k ] china , nepal , bhutan north ; bangladesh myanmar east .',\n",
       " 'in indian ocean , india near sri lanka maldiv ; andaman nicobar island share maritim border thailand , myanmar , indonesia .',\n",
       " 'modern human arriv indian subcontin africa later 55,000 year ago .',\n",
       " '[ 28 ] [ 29 ] [ 30 ] their long occup , predominantli isol hunter-gather , made region highli divers , second africa human genet divers .',\n",
       " '[ 31 ] settl life emerg subcontin western margin indu river basin 9,000 year ago , evolv gradual indu valley civilis third millennium bce .',\n",
       " '[ 32 ] by 1200 bce , archaic form sanskrit , indo-european languag , diffus india northwest .',\n",
       " '[ 33 ] [ 34 ] it hymn record dawn hinduism india .',\n",
       " \"[ 35 ] india 's pre-exist dravidian languag supplant northern region .\",\n",
       " '[ 36 ] by 400 bce , cast emerg within hinduism , [ 37 ] buddhism jainism arisen , proclaim social order unlink hered .',\n",
       " '[ 38 ] earli polit consolid gave rise loose-knit maurya gupta empir .',\n",
       " '[ 39 ] widespread creativ suffus era , [ 40 ] statu women declin , [ 41 ] untouch becam organ belief .',\n",
       " '[ l ] [ 42 ] in south india , middl kingdom export dravidian languag script religi cultur kingdom southeast asia .',\n",
       " \"[ 43 ] in earli mediaev era , christian , islam , judaism , zoroastrian becam establish india 's southern western coast .\",\n",
       " \"[ 44 ] muslim armi central asia intermitt overran india 's northern plain .\",\n",
       " '[ 45 ] the result delhi sultan drew northern india cosmopolitan network mediaev islam .',\n",
       " '[ 46 ] in south india , vijayanagara empir creat long-last composit hindu cultur .',\n",
       " '[ 47 ] in punjab , sikhism emerg , reject institutionalis religion .',\n",
       " '[ 48 ] the mughal empir , 1526 , usher two centuri rel peac , [ 49 ] leav legaci lumin architectur .',\n",
       " '[ ] [ 50 ] gradual expand rule british east india compani follow .',\n",
       " 'it turn india coloni economi consolid sovereignti .',\n",
       " '[ 51 ] british crown rule began 1858 .',\n",
       " 'the right promis indian grant slowli , [ 52 ] [ 53 ] technolog chang introduc , modern idea educ public life took root .',\n",
       " '[ 54 ] a pioneer influenti nationalist movement emerg .',\n",
       " 'note nonviol resist becam major factor end british rule .',\n",
       " '[ 55 ] [ 56 ] in 1947 , british indian empir partit two independ dominion , [ 57 ] [ 58 ] [ 59 ] [ 60 ] hindu-major dominion india muslim-major dominion pakistan .',\n",
       " 'a large-scal loss life unpreced migrat accompani partit .',\n",
       " '[ 61 ] india feder republ sinc 1950 , govern democrat parliamentari system .',\n",
       " 'it pluralist , multilingu multi-ethn societi .',\n",
       " \"india 's popul grew 361 million 1951 almost 1.4 billion 2022 .\",\n",
       " '[ 62 ] dure time , nomin per capita incom increas us $ 64 annual us $ 2,601 , literaci rate 16.6 % 74 % .',\n",
       " 'a compar destitut countri 1951 , [ 63 ] india becom fast-grow major economi hub inform technolog servic ; expand middl class .',\n",
       " '[ 64 ] indian movi music increasingli influenc global cultur .',\n",
       " '[ 65 ] india reduc poverti rate , though cost increas econom inequ .',\n",
       " '[ 66 ] it nuclear-weapon state rank high militari expenditur .',\n",
       " 'it disput kashmir neighbour , pakistan china , unresolv sinc mid-20th centuri .',\n",
       " '[ 67 ] among socio-econom challeng india face gender inequ , child malnutrit , [ 68 ] rise level air pollut .',\n",
       " \"[ 69 ] india 's land megadivers four biodivers hotspot .\",\n",
       " \"[ 70 ] india 's wildlif , tradit view toler cultur , [ 71 ] support among forest elsewher protect habitat .\"]"
      ]
     },
     "execution_count": 12,
     "metadata": {},
     "output_type": "execute_result"
    }
   ],
   "source": [
    "sentences"
   ]
  },
  {
   "cell_type": "code",
   "execution_count": 14,
   "metadata": {},
   "outputs": [],
   "source": [
    "from nltk.stem import SnowballStemmer\n",
    "snowball = SnowballStemmer('english')"
   ]
  },
  {
   "cell_type": "code",
   "execution_count": 15,
   "metadata": {},
   "outputs": [],
   "source": [
    "sentences2 = nltk.sent_tokenize(paragraph)"
   ]
  },
  {
   "cell_type": "code",
   "execution_count": 16,
   "metadata": {},
   "outputs": [],
   "source": [
    "for i in range(len(sentences2)):\n",
    "    words = nltk.word_tokenize(sentences2[i])\n",
    "    words = [snowball.stem(word) for word in words if word not in set(stopwords.words('english'))]\n",
    "    sentences2[i] = ' '.join(words)\n"
   ]
  },
  {
   "cell_type": "code",
   "execution_count": 17,
   "metadata": {},
   "outputs": [
    {
     "data": {
      "text/plain": [
       "['this articl republ india .',\n",
       " 'for use , see india ( disambigu ) .',\n",
       " 'india , offici republ india , [ j ] [ 21 ] countri south asia .',\n",
       " \"it seventh-largest countri area ; popul countri june 2023 onward ; [ 22 ] [ 23 ] sinc independ 1947 , world 's popul democraci .\",\n",
       " '[ 24 ] [ 25 ] [ 26 ] bound indian ocean south , arabian sea southwest , bay bengal southeast , share land border pakistan west ; [ k ] china , nepal , bhutan north ; bangladesh myanmar east .',\n",
       " 'in indian ocean , india near sri lanka maldiv ; andaman nicobar island share maritim border thailand , myanmar , indonesia .',\n",
       " 'modern human arriv indian subcontin africa later 55,000 year ago .',\n",
       " '[ 28 ] [ 29 ] [ 30 ] their long occup , predomin isol hunter-gather , made region high divers , second africa human genet divers .',\n",
       " '[ 31 ] settl life emerg subcontin western margin indus river basin 9,000 year ago , evolv gradual indus valley civilis third millennium bce .',\n",
       " '[ 32 ] by 1200 bce , archaic form sanskrit , indo-european languag , diffus india northwest .',\n",
       " '[ 33 ] [ 34 ] it hymn record dawn hinduism india .',\n",
       " \"[ 35 ] india 's pre-exist dravidian languag supplant northern region .\",\n",
       " '[ 36 ] by 400 bce , cast emerg within hinduism , [ 37 ] buddhism jainism arisen , proclaim social order unlink hered .',\n",
       " '[ 38 ] earli polit consolid gave rise loose-knit maurya gupta empir .',\n",
       " '[ 39 ] widespread creativ suffus era , [ 40 ] status women declin , [ 41 ] untouch becam organ belief .',\n",
       " '[ l ] [ 42 ] in south india , middl kingdom export dravidian languag script religi cultur kingdom southeast asia .',\n",
       " \"[ 43 ] in earli mediaev era , christian , islam , judaism , zoroastrian becam establish india 's southern western coast .\",\n",
       " \"[ 44 ] muslim armi central asia intermitt overran india 's northern plain .\",\n",
       " '[ 45 ] the result delhi sultan drew northern india cosmopolitan network mediaev islam .',\n",
       " '[ 46 ] in south india , vijayanagara empir creat long-last composit hindu cultur .',\n",
       " '[ 47 ] in punjab , sikhism emerg , reject institutionalis religion .',\n",
       " '[ 48 ] the mughal empir , 1526 , usher two centuri relat peac , [ 49 ] leav legaci lumin architectur .',\n",
       " '[ ] [ 50 ] gradual expand rule british east india compani follow .',\n",
       " 'it turn india coloni economi consolid sovereignti .',\n",
       " '[ 51 ] british crown rule began 1858 .',\n",
       " 'the right promis indian grant slowli , [ 52 ] [ 53 ] technolog chang introduc , modern idea educ public life took root .',\n",
       " '[ 54 ] a pioneer influenti nationalist movement emerg .',\n",
       " 'note nonviol resist becam major factor end british rule .',\n",
       " '[ 55 ] [ 56 ] in 1947 , british indian empir partit two independ dominion , [ 57 ] [ 58 ] [ 59 ] [ 60 ] hindu-major dominion india muslim-major dominion pakistan .',\n",
       " 'a large-scal loss life unpreced migrat accompani partit .',\n",
       " '[ 61 ] india feder republ sinc 1950 , govern democrat parliamentari system .',\n",
       " 'it pluralist , multilingu multi-ethn societi .',\n",
       " \"india 's popul grew 361 million 1951 almost 1.4 billion 2022 .\",\n",
       " '[ 62 ] dure time , nomin per capita incom increas us $ 64 annual us $ 2,601 , literaci rate 16.6 % 74 % .',\n",
       " 'a compar destitut countri 1951 , [ 63 ] india becom fast-grow major economi hub inform technolog servic ; expand middl class .',\n",
       " '[ 64 ] indian movi music increas influenc global cultur .',\n",
       " '[ 65 ] india reduc poverti rate , though cost increas econom inequ .',\n",
       " '[ 66 ] it nuclear-weapon state rank high militari expenditur .',\n",
       " 'it disput kashmir neighbour , pakistan china , unresolv sinc mid-20th centuri .',\n",
       " '[ 67 ] among socio-econom challeng india face gender inequ , child malnutrit , [ 68 ] rise level air pollut .',\n",
       " \"[ 69 ] india 's land megadivers four biodivers hotspot .\",\n",
       " \"[ 70 ] india 's wildlif , tradit view toler cultur , [ 71 ] support among forest elsewher protect habitat .\"]"
      ]
     },
     "execution_count": 17,
     "metadata": {},
     "output_type": "execute_result"
    }
   ],
   "source": [
    "sentences2"
   ]
  },
  {
   "cell_type": "code",
   "execution_count": null,
   "metadata": {},
   "outputs": [],
   "source": []
  }
 ],
 "metadata": {
  "kernelspec": {
   "display_name": ".venv",
   "language": "python",
   "name": "python3"
  },
  "language_info": {
   "codemirror_mode": {
    "name": "ipython",
    "version": 3
   },
   "file_extension": ".py",
   "mimetype": "text/x-python",
   "name": "python",
   "nbconvert_exporter": "python",
   "pygments_lexer": "ipython3",
   "version": "3.12.6"
  }
 },
 "nbformat": 4,
 "nbformat_minor": 2
}
